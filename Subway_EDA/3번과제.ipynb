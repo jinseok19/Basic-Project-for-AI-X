{
 "cells": [
  {
   "cell_type": "code",
   "execution_count": 6,
   "id": "8d27670c-ec0c-439b-9db9-d53db77944e2",
   "metadata": {},
   "outputs": [],
   "source": [
    "#가장 승객이 많이 타는 승차역은?\n",
    "import pandas as pd\n",
    "import numpy as np\n",
    "import seaborn as sns\n",
    "import matplotlib.pyplot as plt\n",
    "subway_raw = pd.read_csv('subway_raw.csv')"
   ]
  },
  {
   "cell_type": "code",
   "execution_count": 3,
   "id": "ec7f1ada-0187-49c8-a2a7-252962dc7f63",
   "metadata": {},
   "outputs": [],
   "source": [
    "#한글폰트깨짐 해결\n",
    "import matplotlib as plt\n",
    "import matplotlib.font_manager as fm\n",
    "\n",
    "font_list = [font.name for font in fm.fontManager.ttflist]\n",
    "font_list\n",
    "plt.rcParams['font.family'] = 'HYGungSo-Bold'"
   ]
  },
  {
   "cell_type": "code",
   "execution_count": 4,
   "id": "70649b8b-393f-4b3d-a8ae-5897e2f35955",
   "metadata": {},
   "outputs": [
    {
     "data": {
      "text/html": [
       "<div>\n",
       "<style scoped>\n",
       "    .dataframe tbody tr th:only-of-type {\n",
       "        vertical-align: middle;\n",
       "    }\n",
       "\n",
       "    .dataframe tbody tr th {\n",
       "        vertical-align: top;\n",
       "    }\n",
       "\n",
       "    .dataframe thead th {\n",
       "        text-align: right;\n",
       "    }\n",
       "</style>\n",
       "<table border=\"1\" class=\"dataframe\">\n",
       "  <thead>\n",
       "    <tr style=\"text-align: right;\">\n",
       "      <th></th>\n",
       "      <th>승차총승객수</th>\n",
       "    </tr>\n",
       "    <tr>\n",
       "      <th>역명</th>\n",
       "      <th></th>\n",
       "    </tr>\n",
       "  </thead>\n",
       "  <tbody>\n",
       "    <tr>\n",
       "      <th>잠실</th>\n",
       "      <td>18574323.0</td>\n",
       "    </tr>\n",
       "    <tr>\n",
       "      <th>강남</th>\n",
       "      <td>18148024.0</td>\n",
       "    </tr>\n",
       "    <tr>\n",
       "      <th>고속터미널</th>\n",
       "      <td>17541287.0</td>\n",
       "    </tr>\n",
       "    <tr>\n",
       "      <th>홍대입구</th>\n",
       "      <td>17270084.0</td>\n",
       "    </tr>\n",
       "    <tr>\n",
       "      <th>서울역</th>\n",
       "      <td>17165598.0</td>\n",
       "    </tr>\n",
       "    <tr>\n",
       "      <th>...</th>\n",
       "      <td>...</td>\n",
       "    </tr>\n",
       "    <tr>\n",
       "      <th>신원</th>\n",
       "      <td>43013.0</td>\n",
       "    </tr>\n",
       "    <tr>\n",
       "      <th>백양리</th>\n",
       "      <td>34193.0</td>\n",
       "    </tr>\n",
       "    <tr>\n",
       "      <th>굴봉산</th>\n",
       "      <td>34051.0</td>\n",
       "    </tr>\n",
       "    <tr>\n",
       "      <th>달월</th>\n",
       "      <td>12987.0</td>\n",
       "    </tr>\n",
       "    <tr>\n",
       "      <th>지평</th>\n",
       "      <td>10516.0</td>\n",
       "    </tr>\n",
       "  </tbody>\n",
       "</table>\n",
       "<p>509 rows × 1 columns</p>\n",
       "</div>"
      ],
      "text/plain": [
       "           승차총승객수\n",
       "역명               \n",
       "잠실     18574323.0\n",
       "강남     18148024.0\n",
       "고속터미널  17541287.0\n",
       "홍대입구   17270084.0\n",
       "서울역    17165598.0\n",
       "...           ...\n",
       "신원        43013.0\n",
       "백양리       34193.0\n",
       "굴봉산       34051.0\n",
       "달월        12987.0\n",
       "지평        10516.0\n",
       "\n",
       "[509 rows x 1 columns]"
      ]
     },
     "execution_count": 4,
     "metadata": {},
     "output_type": "execute_result"
    }
   ],
   "source": [
    "df_subway = subway_raw.groupby('역명')\\\n",
    "                    .agg(승차총승객수 = ('승차총승객수','sum'))\\\n",
    "                    .sort_values('승차총승객수',ascending = False)\n",
    "df_subway"
   ]
  },
  {
   "cell_type": "code",
   "execution_count": 10,
   "id": "cd88a114-22ce-441e-95cc-a3cf4b84a379",
   "metadata": {},
   "outputs": [
    {
     "data": {
      "image/png": "[encoded data removed]",
      "text/plain": [
       "<Figure size 1440x360 with 1 Axes>"
      ]
     },
     "metadata": {
      "needs_background": "light"
     },
     "output_type": "display_data"
    }
   ],
   "source": [
    "plt.figure(figsize=(20,5))\n",
    "plt.plot(df_subway)\n",
    "plt.xlabel('역명')\n",
    "plt.ylabel('승차총승객수') \n",
    "plt.xlim(0,10)\n",
    "plt.show()"
   ]
  },
  {
   "cell_type": "code",
   "execution_count": null,
   "id": "b74182e8-7a02-41e5-8d81-b7d5404a6fc7",
   "metadata": {},
   "outputs": [],
   "source": []
  }
 ],
 "metadata": {
  "kernelspec": {
   "display_name": "Python 3 (ipykernel)",
   "language": "python",
   "name": "python3"
  },
  "language_info": {
   "codemirror_mode": {
    "name": "ipython",
    "version": 3
   },
   "file_extension": ".py",
   "mimetype": "text/x-python",
   "name": "python",
   "nbconvert_exporter": "python",
   "pygments_lexer": "ipython3",
   "version": "3.9.12"
  }
 },
 "nbformat": 4,
 "nbformat_minor": 5
}
