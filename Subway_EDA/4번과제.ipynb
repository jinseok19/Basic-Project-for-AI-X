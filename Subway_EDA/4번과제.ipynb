{
 "cells": [
  {
   "cell_type": "markdown",
   "id": "6c91458c-4f3d-4cb9-8fd4-688db8e044a0",
   "metadata": {},
   "source": [
    "역별 요일별 승차총승객수 피벗 테이블을 만듬\n",
    "판다스의 비벗테이블 메소드?? 확인하기 \n",
    "유니크 메소드 \n",
    "코로나 가설 \n",
    "버스 -> 서울공공열린데이터\n",
    "벛꽃시즌 ->\n",
    "빅데이터 공모전 -> 얼마나 재미있는걸 발견했느냐 "
   ]
  },
  {
   "cell_type": "code",
   "execution_count": 1,
   "id": "07292cec-d76e-481e-aa20-6da192ebb3bb",
   "metadata": {},
   "outputs": [],
   "source": [
    "#노선별로 역별/요일별 승차승객수를 비교해 볼수 있을까? (1~9호선, 역별/요일별 heatmap)\n",
    "import pandas as pd\n",
    "import numpy as np\n",
    "import seaborn as sns\n",
    "subway_raw = pd.read_csv('subway_raw.csv')"
   ]
  },
  {
   "cell_type": "code",
   "execution_count": 5,
   "id": "8a4c1648-25d4-4e12-9e57-99d32709eeea",
   "metadata": {
    "tags": []
   },
   "outputs": [
    {
     "name": "stdout",
     "output_type": "stream",
     "text": [
      "C:\\Users\\woosung\\anaconda3\\lib\\site-packages\\matplotlib\\mpl-data\\matplotlibrc\n"
     ]
    }
   ],
   "source": [
    "#한글폰트깨짐 해결\n",
    "import matplotlib.font_manager as fm\n",
    "\n",
    "font_list = [font.name for font in fm.fontManager.ttflist]\n",
    "font_list\n",
    "plt.rcParams['font.family'] = 'HYGungSo-Bold'"
   ]
  },
  {
   "cell_type": "code",
   "execution_count": 18,
   "id": "887a9b84-5c69-4c56-b25c-c6bdfeb00887",
   "metadata": {},
   "outputs": [
    {
     "data": {
      "text/html": [
       "<div>\n",
       "<style scoped>\n",
       "    .dataframe tbody tr th:only-of-type {\n",
       "        vertical-align: middle;\n",
       "    }\n",
       "\n",
       "    .dataframe tbody tr th {\n",
       "        vertical-align: top;\n",
       "    }\n",
       "\n",
       "    .dataframe thead th {\n",
       "        text-align: right;\n",
       "    }\n",
       "</style>\n",
       "<table border=\"1\" class=\"dataframe\">\n",
       "  <thead>\n",
       "    <tr style=\"text-align: right;\">\n",
       "      <th></th>\n",
       "      <th></th>\n",
       "      <th></th>\n",
       "      <th>n</th>\n",
       "    </tr>\n",
       "    <tr>\n",
       "      <th>노선명</th>\n",
       "      <th>역명</th>\n",
       "      <th>요일</th>\n",
       "      <th></th>\n",
       "    </tr>\n",
       "  </thead>\n",
       "  <tbody>\n",
       "    <tr>\n",
       "      <th rowspan=\"5\" valign=\"top\">1호선</th>\n",
       "      <th rowspan=\"5\" valign=\"top\">가능</th>\n",
       "      <th>금</th>\n",
       "      <td>26</td>\n",
       "    </tr>\n",
       "    <tr>\n",
       "      <th>목</th>\n",
       "      <td>26</td>\n",
       "    </tr>\n",
       "    <tr>\n",
       "      <th>수</th>\n",
       "      <td>26</td>\n",
       "    </tr>\n",
       "    <tr>\n",
       "      <th>월</th>\n",
       "      <td>26</td>\n",
       "    </tr>\n",
       "    <tr>\n",
       "      <th>일</th>\n",
       "      <td>25</td>\n",
       "    </tr>\n",
       "    <tr>\n",
       "      <th>...</th>\n",
       "      <th>...</th>\n",
       "      <th>...</th>\n",
       "      <td>...</td>\n",
       "    </tr>\n",
       "    <tr>\n",
       "      <th rowspan=\"5\" valign=\"top\">9호선</th>\n",
       "      <th rowspan=\"5\" valign=\"top\">흑석</th>\n",
       "      <th>수</th>\n",
       "      <td>26</td>\n",
       "    </tr>\n",
       "    <tr>\n",
       "      <th>월</th>\n",
       "      <td>26</td>\n",
       "    </tr>\n",
       "    <tr>\n",
       "      <th>일</th>\n",
       "      <td>25</td>\n",
       "    </tr>\n",
       "    <tr>\n",
       "      <th>토</th>\n",
       "      <td>26</td>\n",
       "    </tr>\n",
       "    <tr>\n",
       "      <th>화</th>\n",
       "      <td>26</td>\n",
       "    </tr>\n",
       "  </tbody>\n",
       "</table>\n",
       "<p>2604 rows × 1 columns</p>\n",
       "</div>"
      ],
      "text/plain": [
       "            n\n",
       "노선명 역명 요일    \n",
       "1호선 가능 금   26\n",
       "       목   26\n",
       "       수   26\n",
       "       월   26\n",
       "       일   25\n",
       "...        ..\n",
       "9호선 흑석 수   26\n",
       "       월   26\n",
       "       일   25\n",
       "       토   26\n",
       "       화   26\n",
       "\n",
       "[2604 rows x 1 columns]"
      ]
     },
     "execution_count": 18,
     "metadata": {},
     "output_type": "execute_result"
    }
   ],
   "source": [
    "df_subway = subway_raw.query('노선명 in [\"1호선\",\"2호선\",\"3호선\",\"4호선\",\"5호선\",\"6호선\",\"7호선\",\"8호선\",\"9호선\"]')\\\n",
    "                      .groupby(['노선명','역명','요일'])\\\n",
    "                      .agg(n = ('승차총승객수','count'))\n",
    "df_subway"
   ]
  },
  {
   "cell_type": "code",
   "execution_count": 19,
   "id": "229622b8-95fe-4bb4-93aa-0edd98d248ae",
   "metadata": {},
   "outputs": [
    {
     "data": {
      "text/plain": [
       "<AxesSubplot:ylabel='노선명-역명-요일'>"
      ]
     },
     "execution_count": 19,
     "metadata": {},
     "output_type": "execute_result"
    },
    {
     "data": {
      "image/png": "[encoded data removed]",
      "text/plain": [
       "<Figure size 432x288 with 2 Axes>"
      ]
     },
     "metadata": {
      "needs_background": "light"
     },
     "output_type": "display_data"
    }
   ],
   "source": [
    "sns.heatmap(df_subway,\n",
    "            annot = True,\n",
    "            cmap = 'RdBu')"
   ]
  },
  {
   "cell_type": "code",
   "execution_count": null,
   "id": "03f7b5b3-da71-4c6c-b6d8-abb4bbd5523f",
   "metadata": {},
   "outputs": [],
   "source": []
  }
 ],
 "metadata": {
  "kernelspec": {
   "display_name": "Python 3 (ipykernel)",
   "language": "python",
   "name": "python3"
  },
  "language_info": {
   "codemirror_mode": {
    "name": "ipython",
    "version": 3
   },
   "file_extension": ".py",
   "mimetype": "text/x-python",
   "name": "python",
   "nbconvert_exporter": "python",
   "pygments_lexer": "ipython3",
   "version": "3.9.12"
  }
 },
 "nbformat": 4,
 "nbformat_minor": 5
}
