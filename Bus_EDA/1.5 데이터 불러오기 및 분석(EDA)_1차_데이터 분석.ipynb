{
 "cells": [
  {
   "cell_type": "markdown",
   "id": "boxed-jamaica",
   "metadata": {
    "id": "boxed-jamaica"
   },
   "source": [
    "# 안녕하세요:)\n",
    "\n",
    "## '서울시 생활정보 기반 대중교통 수요 분석 ' 과정에 오신 여러분을 환영합니다.\n",
    "* 본 과정에서는 서울시 생활정보 데이터를 기반으로 데이터 분석을 시도하고 주어진 문제를 해결할 것입니다.\n",
    "\n",
    "\n",
    "* 우리는 공공 데이터를 활용해 버스노선 관련 인사이트를 도출하여 유용한 정책을 세우는데 도움을 주고자 합니다"
   ]
  },
  {
   "cell_type": "markdown",
   "id": "46fa690c",
   "metadata": {
    "id": "46fa690c"
   },
   "source": [
    "## ▣ 우리가 풀어야 하는 문제는 무엇인가요?\n",
    "\n",
    "* 제공 데이터\n",
    "    - 구 별 유동인구 데이터\n",
    "    - 구 별 주민 등록 데이터\n",
    "    - 구 별 업종 등록 정보\n",
    "    - 버스 승하차 및 운행 노선 데이터 \n",
    "\n",
    "### 위 제공 데이터를 분석하여 버스 노선 추가 필요 대상 지역(구 단위)을 선정합니다"
   ]
  },
  {
   "cell_type": "markdown",
   "id": "22a4bba9",
   "metadata": {
    "id": "22a4bba9"
   },
   "source": [
    "# 이 4개의 데이터들을 어떻게 합칠까요?"
   ]
  },
  {
   "cell_type": "code",
   "execution_count": 2,
   "id": "ce78669f",
   "metadata": {
    "id": "ce78669f"
   },
   "outputs": [],
   "source": [
    "import pandas as pd"
   ]
  },
  {
   "cell_type": "code",
   "execution_count": 4,
   "id": "d91f797e",
   "metadata": {
    "id": "d91f797e"
   },
   "outputs": [],
   "source": [
    "standard = pd.DataFrame({'도착 시군구 코드': [11010, 11020, 11030, 11040, 11050, 11060, 11070, 11080, 11090, 11100, 11110, 11120, 11130, 11140, 11150, 11160, 11170, 11180, 11190, 11200, 11210, 11220, 11230, 11240, 11250],\n",
    "                         '자치구' :['종로구','중구','용산구','성동구','광진구','동대문구','중랑구','성북구','강북구','도봉구','노원구','은평구','서대문구','마포구','양천구','강서구','구로구','금천구','영등포구','동작구','관악구','서초구','강남구','송파구','강동구']})"
   ]
  },
  {
   "cell_type": "code",
   "execution_count": 5,
   "id": "823d3b41",
   "metadata": {
    "id": "823d3b41"
   },
   "outputs": [
    {
     "data": {
      "text/html": [
       "<div>\n",
       "<style scoped>\n",
       "    .dataframe tbody tr th:only-of-type {\n",
       "        vertical-align: middle;\n",
       "    }\n",
       "\n",
       "    .dataframe tbody tr th {\n",
       "        vertical-align: top;\n",
       "    }\n",
       "\n",
       "    .dataframe thead th {\n",
       "        text-align: right;\n",
       "    }\n",
       "</style>\n",
       "<table border=\"1\" class=\"dataframe\">\n",
       "  <thead>\n",
       "    <tr style=\"text-align: right;\">\n",
       "      <th></th>\n",
       "      <th>도착 시군구 코드</th>\n",
       "      <th>자치구</th>\n",
       "    </tr>\n",
       "  </thead>\n",
       "  <tbody>\n",
       "    <tr>\n",
       "      <th>0</th>\n",
       "      <td>11010</td>\n",
       "      <td>종로구</td>\n",
       "    </tr>\n",
       "    <tr>\n",
       "      <th>1</th>\n",
       "      <td>11020</td>\n",
       "      <td>중구</td>\n",
       "    </tr>\n",
       "    <tr>\n",
       "      <th>2</th>\n",
       "      <td>11030</td>\n",
       "      <td>용산구</td>\n",
       "    </tr>\n",
       "    <tr>\n",
       "      <th>3</th>\n",
       "      <td>11040</td>\n",
       "      <td>성동구</td>\n",
       "    </tr>\n",
       "    <tr>\n",
       "      <th>4</th>\n",
       "      <td>11050</td>\n",
       "      <td>광진구</td>\n",
       "    </tr>\n",
       "    <tr>\n",
       "      <th>5</th>\n",
       "      <td>11060</td>\n",
       "      <td>동대문구</td>\n",
       "    </tr>\n",
       "    <tr>\n",
       "      <th>6</th>\n",
       "      <td>11070</td>\n",
       "      <td>중랑구</td>\n",
       "    </tr>\n",
       "    <tr>\n",
       "      <th>7</th>\n",
       "      <td>11080</td>\n",
       "      <td>성북구</td>\n",
       "    </tr>\n",
       "    <tr>\n",
       "      <th>8</th>\n",
       "      <td>11090</td>\n",
       "      <td>강북구</td>\n",
       "    </tr>\n",
       "    <tr>\n",
       "      <th>9</th>\n",
       "      <td>11100</td>\n",
       "      <td>도봉구</td>\n",
       "    </tr>\n",
       "    <tr>\n",
       "      <th>10</th>\n",
       "      <td>11110</td>\n",
       "      <td>노원구</td>\n",
       "    </tr>\n",
       "    <tr>\n",
       "      <th>11</th>\n",
       "      <td>11120</td>\n",
       "      <td>은평구</td>\n",
       "    </tr>\n",
       "    <tr>\n",
       "      <th>12</th>\n",
       "      <td>11130</td>\n",
       "      <td>서대문구</td>\n",
       "    </tr>\n",
       "    <tr>\n",
       "      <th>13</th>\n",
       "      <td>11140</td>\n",
       "      <td>마포구</td>\n",
       "    </tr>\n",
       "    <tr>\n",
       "      <th>14</th>\n",
       "      <td>11150</td>\n",
       "      <td>양천구</td>\n",
       "    </tr>\n",
       "    <tr>\n",
       "      <th>15</th>\n",
       "      <td>11160</td>\n",
       "      <td>강서구</td>\n",
       "    </tr>\n",
       "    <tr>\n",
       "      <th>16</th>\n",
       "      <td>11170</td>\n",
       "      <td>구로구</td>\n",
       "    </tr>\n",
       "    <tr>\n",
       "      <th>17</th>\n",
       "      <td>11180</td>\n",
       "      <td>금천구</td>\n",
       "    </tr>\n",
       "    <tr>\n",
       "      <th>18</th>\n",
       "      <td>11190</td>\n",
       "      <td>영등포구</td>\n",
       "    </tr>\n",
       "    <tr>\n",
       "      <th>19</th>\n",
       "      <td>11200</td>\n",
       "      <td>동작구</td>\n",
       "    </tr>\n",
       "    <tr>\n",
       "      <th>20</th>\n",
       "      <td>11210</td>\n",
       "      <td>관악구</td>\n",
       "    </tr>\n",
       "    <tr>\n",
       "      <th>21</th>\n",
       "      <td>11220</td>\n",
       "      <td>서초구</td>\n",
       "    </tr>\n",
       "    <tr>\n",
       "      <th>22</th>\n",
       "      <td>11230</td>\n",
       "      <td>강남구</td>\n",
       "    </tr>\n",
       "    <tr>\n",
       "      <th>23</th>\n",
       "      <td>11240</td>\n",
       "      <td>송파구</td>\n",
       "    </tr>\n",
       "    <tr>\n",
       "      <th>24</th>\n",
       "      <td>11250</td>\n",
       "      <td>강동구</td>\n",
       "    </tr>\n",
       "  </tbody>\n",
       "</table>\n",
       "</div>"
      ],
      "text/plain": [
       "    도착 시군구 코드   자치구\n",
       "0       11010   종로구\n",
       "1       11020    중구\n",
       "2       11030   용산구\n",
       "3       11040   성동구\n",
       "4       11050   광진구\n",
       "5       11060  동대문구\n",
       "6       11070   중랑구\n",
       "7       11080   성북구\n",
       "8       11090   강북구\n",
       "9       11100   도봉구\n",
       "10      11110   노원구\n",
       "11      11120   은평구\n",
       "12      11130  서대문구\n",
       "13      11140   마포구\n",
       "14      11150   양천구\n",
       "15      11160   강서구\n",
       "16      11170   구로구\n",
       "17      11180   금천구\n",
       "18      11190  영등포구\n",
       "19      11200   동작구\n",
       "20      11210   관악구\n",
       "21      11220   서초구\n",
       "22      11230   강남구\n",
       "23      11240   송파구\n",
       "24      11250   강동구"
      ]
     },
     "execution_count": 5,
     "metadata": {},
     "output_type": "execute_result"
    }
   ],
   "source": [
    "standard"
   ]
  },
  {
   "cell_type": "code",
   "execution_count": null,
   "id": "5ee007e0",
   "metadata": {
    "id": "5ee007e0"
   },
   "outputs": [],
   "source": [
    "# 버스 정류장 데이터 - df_seoul_bus_station\n",
    "# 유동인구 데이터 - df_seoul_moving\n",
    "# 구별 상권 데이터 - df_seoul_business\n",
    "# 구별 등록 인구 데이터 - df_seoul_people"
   ]
  },
  {
   "cell_type": "code",
   "execution_count": 9,
   "id": "d8f6cfe8",
   "metadata": {
    "id": "d8f6cfe8"
   },
   "outputs": [],
   "source": [
    "df_seoul_bus_station = pd.read_csv('df_seoul_bus_station.csv', sep=\",\", encoding = 'UTF-8')\n",
    "df_seoul_moving = pd.read_csv('df_seoul_moving.csv', sep=\",\", encoding = 'UTF-8')\n",
    "#df_seoul_business = pd.read_csv('df_seoul_business.csv', sep=\",\", encoding = 'UTF-8')\n",
    "df_seoul_people = pd.read_csv('df_seoul_people.csv', sep=\",\", encoding = 'UTF-8')"
   ]
  },
  {
   "cell_type": "code",
   "execution_count": 6,
   "id": "aa6489c6",
   "metadata": {
    "id": "aa6489c6"
   },
   "outputs": [
    {
     "data": {
      "text/html": [
       "<div>\n",
       "<style scoped>\n",
       "    .dataframe tbody tr th:only-of-type {\n",
       "        vertical-align: middle;\n",
       "    }\n",
       "\n",
       "    .dataframe tbody tr th {\n",
       "        vertical-align: top;\n",
       "    }\n",
       "\n",
       "    .dataframe thead th {\n",
       "        text-align: right;\n",
       "    }\n",
       "</style>\n",
       "<table border=\"1\" class=\"dataframe\">\n",
       "  <thead>\n",
       "    <tr style=\"text-align: right;\">\n",
       "      <th></th>\n",
       "      <th>자치구</th>\n",
       "      <th>정류장수</th>\n",
       "      <th>노선수</th>\n",
       "      <th>승차총승객수</th>\n",
       "      <th>하차총승객수</th>\n",
       "      <th>승차평균승객수</th>\n",
       "      <th>하차평균승객수</th>\n",
       "    </tr>\n",
       "  </thead>\n",
       "  <tbody>\n",
       "    <tr>\n",
       "      <th>0</th>\n",
       "      <td>강남구</td>\n",
       "      <td>499</td>\n",
       "      <td>91</td>\n",
       "      <td>8030483</td>\n",
       "      <td>7569213</td>\n",
       "      <td>128.767927</td>\n",
       "      <td>121.371512</td>\n",
       "    </tr>\n",
       "    <tr>\n",
       "      <th>1</th>\n",
       "      <td>강동구</td>\n",
       "      <td>369</td>\n",
       "      <td>21</td>\n",
       "      <td>2890053</td>\n",
       "      <td>2830506</td>\n",
       "      <td>99.161194</td>\n",
       "      <td>97.118065</td>\n",
       "    </tr>\n",
       "    <tr>\n",
       "      <th>2</th>\n",
       "      <td>강북구</td>\n",
       "      <td>413</td>\n",
       "      <td>67</td>\n",
       "      <td>4825181</td>\n",
       "      <td>4671783</td>\n",
       "      <td>133.020373</td>\n",
       "      <td>128.791504</td>\n",
       "    </tr>\n",
       "    <tr>\n",
       "      <th>3</th>\n",
       "      <td>강서구</td>\n",
       "      <td>566</td>\n",
       "      <td>49</td>\n",
       "      <td>4681083</td>\n",
       "      <td>4652828</td>\n",
       "      <td>88.119480</td>\n",
       "      <td>87.587591</td>\n",
       "    </tr>\n",
       "    <tr>\n",
       "      <th>4</th>\n",
       "      <td>관악구</td>\n",
       "      <td>466</td>\n",
       "      <td>86</td>\n",
       "      <td>7655819</td>\n",
       "      <td>7792476</td>\n",
       "      <td>154.753674</td>\n",
       "      <td>157.516040</td>\n",
       "    </tr>\n",
       "  </tbody>\n",
       "</table>\n",
       "</div>"
      ],
      "text/plain": [
       "   자치구  정류장수  노선수   승차총승객수   하차총승객수     승차평균승객수     하차평균승객수\n",
       "0  강남구   499   91  8030483  7569213  128.767927  121.371512\n",
       "1  강동구   369   21  2890053  2830506   99.161194   97.118065\n",
       "2  강북구   413   67  4825181  4671783  133.020373  128.791504\n",
       "3  강서구   566   49  4681083  4652828   88.119480   87.587591\n",
       "4  관악구   466   86  7655819  7792476  154.753674  157.516040"
      ]
     },
     "execution_count": 6,
     "metadata": {},
     "output_type": "execute_result"
    }
   ],
   "source": [
    "# 아래에 실습코드를 작성하고 결과를 확인합니다.\n",
    "df_seoul_bus_station.head()"
   ]
  },
  {
   "cell_type": "code",
   "execution_count": 7,
   "id": "c19e3576-4a82-4812-b572-a46c2da02943",
   "metadata": {},
   "outputs": [
    {
     "data": {
      "text/html": [
       "<div>\n",
       "<style scoped>\n",
       "    .dataframe tbody tr th:only-of-type {\n",
       "        vertical-align: middle;\n",
       "    }\n",
       "\n",
       "    .dataframe tbody tr th {\n",
       "        vertical-align: top;\n",
       "    }\n",
       "\n",
       "    .dataframe thead th {\n",
       "        text-align: right;\n",
       "    }\n",
       "</style>\n",
       "<table border=\"1\" class=\"dataframe\">\n",
       "  <thead>\n",
       "    <tr style=\"text-align: right;\">\n",
       "      <th></th>\n",
       "      <th>도착_시군구_코드</th>\n",
       "      <th>각구별평균이동시간</th>\n",
       "      <th>각구별이동시간의합</th>\n",
       "      <th>각구별평균이동인구</th>\n",
       "      <th>각구별이동인구의합</th>\n",
       "    </tr>\n",
       "  </thead>\n",
       "  <tbody>\n",
       "    <tr>\n",
       "      <th>0</th>\n",
       "      <td>강남구</td>\n",
       "      <td>23.094565</td>\n",
       "      <td>11437560</td>\n",
       "      <td>90.580494</td>\n",
       "      <td>44859899.30</td>\n",
       "    </tr>\n",
       "    <tr>\n",
       "      <th>1</th>\n",
       "      <td>강동구</td>\n",
       "      <td>25.670084</td>\n",
       "      <td>8430800</td>\n",
       "      <td>64.858004</td>\n",
       "      <td>21301249.36</td>\n",
       "    </tr>\n",
       "    <tr>\n",
       "      <th>2</th>\n",
       "      <td>강북구</td>\n",
       "      <td>23.811274</td>\n",
       "      <td>7649610</td>\n",
       "      <td>39.719921</td>\n",
       "      <td>12760421.77</td>\n",
       "    </tr>\n",
       "    <tr>\n",
       "      <th>3</th>\n",
       "      <td>강서구</td>\n",
       "      <td>25.124068</td>\n",
       "      <td>9388010</td>\n",
       "      <td>58.972061</td>\n",
       "      <td>22035854.10</td>\n",
       "    </tr>\n",
       "    <tr>\n",
       "      <th>4</th>\n",
       "      <td>관악구</td>\n",
       "      <td>23.377928</td>\n",
       "      <td>8772170</td>\n",
       "      <td>50.429574</td>\n",
       "      <td>18922840.20</td>\n",
       "    </tr>\n",
       "  </tbody>\n",
       "</table>\n",
       "</div>"
      ],
      "text/plain": [
       "  도착_시군구_코드  각구별평균이동시간  각구별이동시간의합  각구별평균이동인구    각구별이동인구의합\n",
       "0       강남구  23.094565   11437560  90.580494  44859899.30\n",
       "1       강동구  25.670084    8430800  64.858004  21301249.36\n",
       "2       강북구  23.811274    7649610  39.719921  12760421.77\n",
       "3       강서구  25.124068    9388010  58.972061  22035854.10\n",
       "4       관악구  23.377928    8772170  50.429574  18922840.20"
      ]
     },
     "execution_count": 7,
     "metadata": {},
     "output_type": "execute_result"
    }
   ],
   "source": [
    "df_seoul_moving.head()"
   ]
  },
  {
   "cell_type": "code",
   "execution_count": null,
   "id": "190d6f9f-e3aa-4abc-adb7-7b7983b91961",
   "metadata": {},
   "outputs": [],
   "source": [
    "#df_seoul_business.head()"
   ]
  },
  {
   "cell_type": "code",
   "execution_count": 10,
   "id": "7df0fe74-8437-4f64-91a0-0260f2c7c73b",
   "metadata": {},
   "outputs": [
    {
     "data": {
      "text/html": [
       "<div>\n",
       "<style scoped>\n",
       "    .dataframe tbody tr th:only-of-type {\n",
       "        vertical-align: middle;\n",
       "    }\n",
       "\n",
       "    .dataframe tbody tr th {\n",
       "        vertical-align: top;\n",
       "    }\n",
       "\n",
       "    .dataframe thead th {\n",
       "        text-align: right;\n",
       "    }\n",
       "</style>\n",
       "<table border=\"1\" class=\"dataframe\">\n",
       "  <thead>\n",
       "    <tr style=\"text-align: right;\">\n",
       "      <th></th>\n",
       "      <th>자치구</th>\n",
       "      <th>남자인구수</th>\n",
       "      <th>여자인구수</th>\n",
       "      <th>남자여자인구수합</th>\n",
       "      <th>세대당인구</th>\n",
       "      <th>65세이상고령자</th>\n",
       "    </tr>\n",
       "  </thead>\n",
       "  <tbody>\n",
       "    <tr>\n",
       "      <th>0</th>\n",
       "      <td>종로구</td>\n",
       "      <td>69911</td>\n",
       "      <td>74364</td>\n",
       "      <td>144275</td>\n",
       "      <td>1.96</td>\n",
       "      <td>28064</td>\n",
       "    </tr>\n",
       "    <tr>\n",
       "      <th>1</th>\n",
       "      <td>중구</td>\n",
       "      <td>59448</td>\n",
       "      <td>62725</td>\n",
       "      <td>122173</td>\n",
       "      <td>1.92</td>\n",
       "      <td>24742</td>\n",
       "    </tr>\n",
       "    <tr>\n",
       "      <th>2</th>\n",
       "      <td>용산구</td>\n",
       "      <td>106735</td>\n",
       "      <td>115434</td>\n",
       "      <td>222169</td>\n",
       "      <td>2.00</td>\n",
       "      <td>39461</td>\n",
       "    </tr>\n",
       "    <tr>\n",
       "      <th>3</th>\n",
       "      <td>성동구</td>\n",
       "      <td>138847</td>\n",
       "      <td>146226</td>\n",
       "      <td>285073</td>\n",
       "      <td>2.12</td>\n",
       "      <td>46896</td>\n",
       "    </tr>\n",
       "    <tr>\n",
       "      <th>4</th>\n",
       "      <td>광진구</td>\n",
       "      <td>164346</td>\n",
       "      <td>176361</td>\n",
       "      <td>340707</td>\n",
       "      <td>2.01</td>\n",
       "      <td>52604</td>\n",
       "    </tr>\n",
       "  </tbody>\n",
       "</table>\n",
       "</div>"
      ],
      "text/plain": [
       "   자치구   남자인구수   여자인구수  남자여자인구수합  세대당인구  65세이상고령자\n",
       "0  종로구   69911   74364    144275   1.96     28064\n",
       "1   중구   59448   62725    122173   1.92     24742\n",
       "2  용산구  106735  115434    222169   2.00     39461\n",
       "3  성동구  138847  146226    285073   2.12     46896\n",
       "4  광진구  164346  176361    340707   2.01     52604"
      ]
     },
     "execution_count": 10,
     "metadata": {},
     "output_type": "execute_result"
    }
   ],
   "source": [
    "df_seoul_people.head()"
   ]
  },
  {
   "cell_type": "code",
   "execution_count": 3,
   "id": "ee9d6143-3300-43fa-bdeb-dd736a9cd245",
   "metadata": {},
   "outputs": [],
   "source": [
    "df = pd.read_csv('df_all.csv')"
   ]
  },
  {
   "cell_type": "code",
   "execution_count": 4,
   "id": "fa9d7d7f-60fa-4533-83ae-76d58f3804d9",
   "metadata": {},
   "outputs": [
    {
     "data": {
      "text/html": [
       "<div>\n",
       "<style scoped>\n",
       "    .dataframe tbody tr th:only-of-type {\n",
       "        vertical-align: middle;\n",
       "    }\n",
       "\n",
       "    .dataframe tbody tr th {\n",
       "        vertical-align: top;\n",
       "    }\n",
       "\n",
       "    .dataframe thead th {\n",
       "        text-align: right;\n",
       "    }\n",
       "</style>\n",
       "<table border=\"1\" class=\"dataframe\">\n",
       "  <thead>\n",
       "    <tr style=\"text-align: right;\">\n",
       "      <th></th>\n",
       "      <th>구</th>\n",
       "      <th>자치구</th>\n",
       "      <th>남자</th>\n",
       "      <th>여자</th>\n",
       "      <th>계</th>\n",
       "      <th>동</th>\n",
       "      <th>택시운송업</th>\n",
       "      <th>택시운송업.1</th>\n",
       "      <th>한식 일반 음식점업</th>\n",
       "      <th>한식 일반 음식점업.1</th>\n",
       "      <th>...</th>\n",
       "      <th>정류장수</th>\n",
       "      <th>노선수</th>\n",
       "      <th>승차총승객수</th>\n",
       "      <th>하차총승객수</th>\n",
       "      <th>승차평균승객수</th>\n",
       "      <th>하차평균승객수</th>\n",
       "      <th>유출 평균 이동 시간(분)</th>\n",
       "      <th>유출 이동인구(합)</th>\n",
       "      <th>유입 평균 이동 시간(분)</th>\n",
       "      <th>유입 이동인구(합)</th>\n",
       "    </tr>\n",
       "  </thead>\n",
       "  <tbody>\n",
       "    <tr>\n",
       "      <th>0</th>\n",
       "      <td>종로구</td>\n",
       "      <td>종로구</td>\n",
       "      <td>74018</td>\n",
       "      <td>79666</td>\n",
       "      <td>153684</td>\n",
       "      <td>소계</td>\n",
       "      <td>215</td>\n",
       "      <td>215</td>\n",
       "      <td>1548</td>\n",
       "      <td>5912</td>\n",
       "      <td>...</td>\n",
       "      <td>349</td>\n",
       "      <td>106</td>\n",
       "      <td>5468935</td>\n",
       "      <td>5205394</td>\n",
       "      <td>131.889620</td>\n",
       "      <td>125.534028</td>\n",
       "      <td>5467740</td>\n",
       "      <td>6749059.61</td>\n",
       "      <td>4903830</td>\n",
       "      <td>6634724.76</td>\n",
       "    </tr>\n",
       "    <tr>\n",
       "      <th>1</th>\n",
       "      <td>중구</td>\n",
       "      <td>중구</td>\n",
       "      <td>63869</td>\n",
       "      <td>67581</td>\n",
       "      <td>131450</td>\n",
       "      <td>소계</td>\n",
       "      <td>230</td>\n",
       "      <td>235</td>\n",
       "      <td>1588</td>\n",
       "      <td>6414</td>\n",
       "      <td>...</td>\n",
       "      <td>178</td>\n",
       "      <td>103</td>\n",
       "      <td>3776675</td>\n",
       "      <td>3598932</td>\n",
       "      <td>121.020124</td>\n",
       "      <td>115.324511</td>\n",
       "      <td>4791400</td>\n",
       "      <td>6582214.42</td>\n",
       "      <td>4877520</td>\n",
       "      <td>6871047.34</td>\n",
       "    </tr>\n",
       "    <tr>\n",
       "      <th>2</th>\n",
       "      <td>용산구</td>\n",
       "      <td>용산구</td>\n",
       "      <td>114571</td>\n",
       "      <td>121947</td>\n",
       "      <td>236518</td>\n",
       "      <td>소계</td>\n",
       "      <td>416</td>\n",
       "      <td>523</td>\n",
       "      <td>857</td>\n",
       "      <td>2987</td>\n",
       "      <td>...</td>\n",
       "      <td>323</td>\n",
       "      <td>67</td>\n",
       "      <td>4189977</td>\n",
       "      <td>4086474</td>\n",
       "      <td>137.891694</td>\n",
       "      <td>134.485421</td>\n",
       "      <td>4362300</td>\n",
       "      <td>4170920.22</td>\n",
       "      <td>4477320</td>\n",
       "      <td>4620616.80</td>\n",
       "    </tr>\n",
       "    <tr>\n",
       "      <th>3</th>\n",
       "      <td>성동구</td>\n",
       "      <td>성동구</td>\n",
       "      <td>141662</td>\n",
       "      <td>149947</td>\n",
       "      <td>291609</td>\n",
       "      <td>소계</td>\n",
       "      <td>1200</td>\n",
       "      <td>2527</td>\n",
       "      <td>956</td>\n",
       "      <td>2785</td>\n",
       "      <td>...</td>\n",
       "      <td>435</td>\n",
       "      <td>58</td>\n",
       "      <td>2807280</td>\n",
       "      <td>2746738</td>\n",
       "      <td>96.377369</td>\n",
       "      <td>94.298888</td>\n",
       "      <td>4479550</td>\n",
       "      <td>4949407.63</td>\n",
       "      <td>4708430</td>\n",
       "      <td>4971476.66</td>\n",
       "    </tr>\n",
       "    <tr>\n",
       "      <th>4</th>\n",
       "      <td>광진구</td>\n",
       "      <td>광진구</td>\n",
       "      <td>169525</td>\n",
       "      <td>183585</td>\n",
       "      <td>353110</td>\n",
       "      <td>소계</td>\n",
       "      <td>1119</td>\n",
       "      <td>1744</td>\n",
       "      <td>963</td>\n",
       "      <td>2861</td>\n",
       "      <td>...</td>\n",
       "      <td>269</td>\n",
       "      <td>41</td>\n",
       "      <td>2749448</td>\n",
       "      <td>2753411</td>\n",
       "      <td>118.352546</td>\n",
       "      <td>118.523137</td>\n",
       "      <td>4252370</td>\n",
       "      <td>4183181.13</td>\n",
       "      <td>4530910</td>\n",
       "      <td>4491298.81</td>\n",
       "    </tr>\n",
       "  </tbody>\n",
       "</table>\n",
       "<p>5 rows × 36 columns</p>\n",
       "</div>"
      ],
      "text/plain": [
       "     구  자치구      남자      여자       계   동  택시운송업  택시운송업.1  한식 일반 음식점업  \\\n",
       "0  종로구  종로구   74018   79666  153684  소계    215      215        1548   \n",
       "1   중구   중구   63869   67581  131450  소계    230      235        1588   \n",
       "2  용산구  용산구  114571  121947  236518  소계    416      523         857   \n",
       "3  성동구  성동구  141662  149947  291609  소계   1200     2527         956   \n",
       "4  광진구  광진구  169525  183585  353110  소계   1119     1744         963   \n",
       "\n",
       "   한식 일반 음식점업.1  ...  정류장수  노선수   승차총승객수   하차총승객수     승차평균승객수     하차평균승객수  \\\n",
       "0          5912  ...   349  106  5468935  5205394  131.889620  125.534028   \n",
       "1          6414  ...   178  103  3776675  3598932  121.020124  115.324511   \n",
       "2          2987  ...   323   67  4189977  4086474  137.891694  134.485421   \n",
       "3          2785  ...   435   58  2807280  2746738   96.377369   94.298888   \n",
       "4          2861  ...   269   41  2749448  2753411  118.352546  118.523137   \n",
       "\n",
       "   유출 평균 이동 시간(분)  유출 이동인구(합)  유입 평균 이동 시간(분)  유입 이동인구(합)  \n",
       "0         5467740  6749059.61         4903830  6634724.76  \n",
       "1         4791400  6582214.42         4877520  6871047.34  \n",
       "2         4362300  4170920.22         4477320  4620616.80  \n",
       "3         4479550  4949407.63         4708430  4971476.66  \n",
       "4         4252370  4183181.13         4530910  4491298.81  \n",
       "\n",
       "[5 rows x 36 columns]"
      ]
     },
     "execution_count": 4,
     "metadata": {},
     "output_type": "execute_result"
    }
   ],
   "source": [
    "df.head()"
   ]
  },
  {
   "cell_type": "code",
   "execution_count": null,
   "id": "01b9e8ba",
   "metadata": {
    "id": "01b9e8ba"
   },
   "outputs": [],
   "source": [
    "# 아래에 실습코드를 작성하고 결과를 확인합니다."
   ]
  },
  {
   "cell_type": "code",
   "execution_count": null,
   "id": "9cc8bb00",
   "metadata": {
    "id": "9cc8bb00"
   },
   "outputs": [],
   "source": [
    "df = pd.merge(standard,df_seoul_people,how='inner', on='자치구')\n",
    "df = pd.merge(df,df_seoul_business,how='inner', on='자치구')\n",
    "df = pd.merge(df,df_seoul_bus_station,how='inner', on='자치구')\n",
    "df = pd.merge(df,df_seoul_moving,how='inner', on='도착 시군구 코드')"
   ]
  },
  {
   "cell_type": "markdown",
   "id": "ca567b34",
   "metadata": {
    "id": "ca567b34"
   },
   "source": [
    "---"
   ]
  },
  {
   "cell_type": "markdown",
   "id": "b2edf769",
   "metadata": {
    "id": "b2edf769"
   },
   "source": [
    "## 1.가설 수립 \n",
    "+ 어떤 데이터를 label 데이터로 하실 건가요?\n",
    "\n",
    "? 정해진게 없나요? - 네 라벨을 개인및 조별로 고민하셔서 라벨데이터를 설정하시면 되겠습니다\n",
    "? 가설마다 라벨데이터가 달라도 상관없나요? 네 그렇습니다\n",
    "? 가설은 3개만 해야하나요? 그 이상 하셔도 무방합니다\n",
    "\n",
    "### 가설을 설정해 봅시다 (인당 최소 3개) - 미니프로젝트 진행의 편의상 가설은 이변량 분석을 염두에 두고 설정해 주세요"
   ]
  },
  {
   "cell_type": "markdown",
   "id": "b3d42e07",
   "metadata": {
    "id": "b3d42e07"
   },
   "source": [
    "* 가설 1"
   ]
  },
  {
   "cell_type": "markdown",
   "id": "4fd1db81",
   "metadata": {
    "id": "4fd1db81"
   },
   "source": [
    "* 가설 2"
   ]
  },
  {
   "cell_type": "markdown",
   "id": "e527bc75",
   "metadata": {
    "id": "e527bc75"
   },
   "source": [
    "* 가설 3"
   ]
  },
  {
   "cell_type": "markdown",
   "id": "6aa7b930",
   "metadata": {
    "id": "6aa7b930"
   },
   "source": [
    "## 2.단변량 분석\n",
    "\n",
    "+ 변수의 비즈니스 의미  \n",
    "\n",
    "+ 숫자? 범주?  \n",
    "\n",
    "+ 전처리 사항\n",
    "   - NaN 존재 여부 및 조치 방안  \n",
    "   - 가변수화 대상여부  \n",
    "   \n",
    "+ 기초통계량\n",
    "\n",
    "+ 분포  \n",
    "\n",
    "+ 위 정보로부터 파악한 내용(비즈니스!) 정리  \n",
    "\n",
    "+ 추가 분석해볼 사항 도출"
   ]
  },
  {
   "cell_type": "code",
   "execution_count": null,
   "id": "b62009a9",
   "metadata": {
    "id": "b62009a9"
   },
   "outputs": [],
   "source": [
    "# 시각화 한글폰트 설정\n",
    "import seaborn as sns\n",
    "import matplotlib.pyplot as plt\n",
    "\n",
    "plt.rc('font', family='nanum')\n",
    "sns.set(font=\"NanumGothicCoding\",#\"NanumGothicCoding\", \n",
    "        rc={\"axes.unicode_minus\":False}, # 마이너스 부호 깨짐 현상 해결\n",
    "        style='darkgrid')     "
   ]
  },
  {
   "cell_type": "markdown",
   "id": "39ef5d0f",
   "metadata": {
    "id": "39ef5d0f"
   },
   "source": [
    "### 1)\n"
   ]
  },
  {
   "cell_type": "markdown",
   "id": "a4e3ec6e",
   "metadata": {
    "id": "a4e3ec6e"
   },
   "source": [
    "### 2)"
   ]
  },
  {
   "cell_type": "markdown",
   "id": "a7193abc",
   "metadata": {
    "id": "a7193abc"
   },
   "source": [
    "### 3)"
   ]
  },
  {
   "cell_type": "markdown",
   "id": "ac81d719",
   "metadata": {
    "id": "ac81d719"
   },
   "source": [
    "## 3.이변량 분석\n",
    "\n",
    "* 자료의 종류에 맞게 X --> Y 에 대해서 그래프(시각화)와 가설검정(수치화)를 수행하고 결과를 평가합니다.\n",
    "\n",
    "* 가설검정시 다음의 항목을 참조하여 수행합니다.\n",
    "    * 유의수준 : 5%\n",
    "    * 숫자 --> 숫자 : 상관분석\n",
    "    * 범주 --> 범주 : 카이제곱검정\n",
    "    * 범주 --> 숫자 : t검정, 분산분석\n",
    "    * 숫자 --> 범주 : 로지스틱 회귀모형을 통해, 회귀계수의 P.value로 검정을 수행합니다.\n"
   ]
  },
  {
   "cell_type": "code",
   "execution_count": null,
   "id": "d4c9ece2",
   "metadata": {
    "id": "d4c9ece2"
   },
   "outputs": [],
   "source": [
    "target = "
   ]
  },
  {
   "cell_type": "markdown",
   "id": "a1ef2391",
   "metadata": {
    "id": "a1ef2391"
   },
   "source": [
    "### 1)"
   ]
  },
  {
   "cell_type": "markdown",
   "id": "9a7f6c08",
   "metadata": {
    "id": "9a7f6c08"
   },
   "source": [
    "### 2)"
   ]
  },
  {
   "cell_type": "markdown",
   "id": "3e09f869",
   "metadata": {
    "id": "3e09f869"
   },
   "source": [
    "### 3)"
   ]
  },
  {
   "cell_type": "markdown",
   "id": "1d3f065b",
   "metadata": {
    "id": "1d3f065b"
   },
   "source": [
    "### 상관계수를 구하고 HeatMap으로 시각화 후 나름의 분석을 해보세요.\n",
    "\n"
   ]
  },
  {
   "cell_type": "code",
   "execution_count": null,
   "id": "4e41b8d9",
   "metadata": {
    "id": "4e41b8d9"
   },
   "outputs": [],
   "source": [
    "# 아래에 실습코드를 작성하고 상관계수를 확인 및 시각화 합니다.\n",
    "import scipy.stats as spst\n",
    "\n",
    "spst.pearsonr(X,Y)"
   ]
  },
  {
   "cell_type": "code",
   "execution_count": null,
   "id": "269c049e",
   "metadata": {
    "id": "269c049e"
   },
   "outputs": [],
   "source": [
    "# 아래에 실습코드를 작성하고 상관계수를 확인 및 시각화 합니다.\n",
    "\n",
    "sns.heatmap(seoul_bus_station.corr(), annot = True)\n",
    "plt.show()"
   ]
  },
  {
   "cell_type": "code",
   "execution_count": null,
   "id": "100b24d7",
   "metadata": {
    "id": "100b24d7"
   },
   "outputs": [],
   "source": [
    "# 위 차트를 통해 알게된 사실을 정리해봅시다.\n",
    "# 1. \n",
    "# 2.\n",
    "# 3."
   ]
  },
  {
   "cell_type": "markdown",
   "id": "20e08293",
   "metadata": {
    "id": "20e08293"
   },
   "source": [
    "## 4.관계 정리"
   ]
  },
  {
   "cell_type": "markdown",
   "id": "b11433ac",
   "metadata": {
    "id": "b11433ac"
   },
   "source": [
    "### 1) 강한 관계의 변수"
   ]
  },
  {
   "cell_type": "markdown",
   "id": "ae622498",
   "metadata": {
    "id": "ae622498"
   },
   "source": []
  },
  {
   "cell_type": "markdown",
   "id": "3101b64b",
   "metadata": {
    "id": "3101b64b"
   },
   "source": [
    "### 2) 약한 관계의 변수"
   ]
  },
  {
   "cell_type": "markdown",
   "id": "7a7f579d",
   "metadata": {
    "id": "7a7f579d"
   },
   "source": []
  },
  {
   "cell_type": "markdown",
   "id": "644198b7",
   "metadata": {
    "id": "644198b7"
   },
   "source": [
    "## 5.솔루션 도출\n",
    "\n",
    "### 어느 구에 버스 노선 또는 정류장이 제일 필요한가요? 그 이유는?"
   ]
  },
  {
   "cell_type": "markdown",
   "id": "783e8346",
   "metadata": {
    "id": "783e8346"
   },
   "source": []
  }
 ],
 "metadata": {
  "colab": {
   "collapsed_sections": [],
   "provenance": [],
   "toc_visible": true
  },
  "kernelspec": {
   "display_name": "Python 3 (ipykernel)",
   "language": "python",
   "name": "python3"
  },
  "language_info": {
   "codemirror_mode": {
    "name": "ipython",
    "version": 3
   },
   "file_extension": ".py",
   "mimetype": "text/x-python",
   "name": "python",
   "nbconvert_exporter": "python",
   "pygments_lexer": "ipython3",
   "version": "3.9.12"
  },
  "vscode": {
   "interpreter": {
    "hash": "f08154012ddadd8e950e6e9e035c7a7b32c136e7647e9b7c77e02eb723a8bedb"
   }
  }
 },
 "nbformat": 4,
 "nbformat_minor": 5
}
